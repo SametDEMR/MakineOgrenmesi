{
 "cells": [
  {
   "cell_type": "code",
   "execution_count": 1,
   "metadata": {},
   "outputs": [
    {
     "name": "stdout",
     "output_type": "stream",
     "text": [
      "Veri seti 'veri.csv' dosyasına kaydedildi.\n"
     ]
    }
   ],
   "source": [
    "import numpy as np\n",
    "import pandas as pd\n",
    "\n",
    "# Rastgele veri üretimi\n",
    "np.random.seed(42)  # Reprodüksiyon için sabit tohum\n",
    "n_samples = 1000  # Örnek sayısı\n",
    "\n",
    "# Özelliklerin rastgele dağılımları\n",
    "cam_markasi = np.random.choice(['Marka A', 'Marka B', 'Marka C'], n_samples)\n",
    "inceltilme_miktari = np.random.uniform(1, 5, n_samples)  # mm\n",
    "\n",
    "ek_ozellikler = np.random.choice(['Yok', 'UV Filtre', 'Anti-Refle'], n_samples)\n",
    "cam_kasko_suresi = np.random.randint(1, 5, n_samples)  # Yıl\n",
    "cerceve_markasi = np.random.choice(['Marka X', 'Marka Y', 'Marka Z'], n_samples)\n",
    "cerceve_tipi = np.random.choice(['Metal', 'Plastik', 'Titanyum'], n_samples)\n",
    "\n",
    "# Fiyat hesaplama\n",
    "fiyat = []\n",
    "for i in range(n_samples):\n",
    "    base_price = 100  # Temel fiyat\n",
    "\n",
    "    # Cam markası fiyat etkisi\n",
    "    if cam_markasi[i] == 'Marka A':\n",
    "        base_price += 50\n",
    "    elif cam_markasi[i] == 'Marka B':\n",
    "        base_price += 30\n",
    "    elif cam_markasi[i] == 'Marka C':\n",
    "        base_price += 20\n",
    "\n",
    "    # İnceltilme miktarı fiyat etkisi\n",
    "    base_price += inceltilme_miktari[i] * 10\n",
    "\n",
    "    # Ek özellik fiyat etkisi\n",
    "    if ek_ozellikler[i] == 'UV Filtre':\n",
    "        base_price += 40\n",
    "    elif ek_ozellikler[i] == 'Anti-Refle':\n",
    "        base_price += 60\n",
    "\n",
    "    # Cam kasko süresi fiyat etkisi\n",
    "    base_price += cam_kasko_suresi[i] * 20\n",
    "\n",
    "    # Çerçeve markası fiyat etkisi\n",
    "    if cerceve_markasi[i] == 'Marka X':\n",
    "        base_price += 70\n",
    "    elif cerceve_markasi[i] == 'Marka Y':\n",
    "        base_price += 50\n",
    "    elif cerceve_markasi[i] == 'Marka Z':\n",
    "        base_price += 30\n",
    "\n",
    "    # Çerçeve tipi fiyat etkisi\n",
    "    if cerceve_tipi[i] == 'Metal':\n",
    "        base_price += 80\n",
    "    elif cerceve_tipi[i] == 'Plastik':\n",
    "        base_price += 40\n",
    "    elif cerceve_tipi[i] == 'Titanyum':\n",
    "        base_price += 100\n",
    "\n",
    "    fiyat.append(base_price)\n",
    "\n",
    "# Veri çerçevesi oluşturma\n",
    "data = pd.DataFrame({\n",
    "    'Cam Markası': cam_markasi,\n",
    "    'İnceltilme Miktarı (mm)': inceltilme_miktari,\n",
    "    'Ek Özellikler': ek_ozellikler,\n",
    "    'Cam Kasko Süresi (yıl)': cam_kasko_suresi,\n",
    "    'Çerçeve Markası': cerceve_markasi,\n",
    "    'Çerçeve Tipi': cerceve_tipi,\n",
    "    'Fiyat (TL)': fiyat\n",
    "})\n",
    "\n",
    "# Veri setini kaydetme\n",
    "data.to_csv('veri.csv', index=False)\n",
    "\n",
    "print(\"Veri seti 'veri.csv' dosyasına kaydedildi.\")"
   ]
  }
 ],
 "metadata": {
  "kernelspec": {
   "display_name": "Python 3",
   "language": "python",
   "name": "python3"
  },
  "language_info": {
   "codemirror_mode": {
    "name": "ipython",
    "version": 3
   },
   "file_extension": ".py",
   "mimetype": "text/x-python",
   "name": "python",
   "nbconvert_exporter": "python",
   "pygments_lexer": "ipython3",
   "version": "3.12.7"
  }
 },
 "nbformat": 4,
 "nbformat_minor": 2
}
